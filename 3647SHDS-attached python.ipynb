{
 "cells": [
  {
   "cell_type": "code",
   "execution_count": 44,
   "id": "e0df6a8d",
   "metadata": {},
   "outputs": [],
   "source": [
    "import numpy as np\n",
    "import pandas as pd\n",
    "from sklearn.model_selection import StratifiedKFold\n",
    "from sklearn.metrics import confusion_matrix, accuracy_score, classification_report\n",
    "from sklearn.svm import SVC\n",
    "from sklearn.linear_model import LogisticRegression\n",
    "from sklearn.neighbors import KNeighborsClassifier\n",
    "from sklearn.ensemble import RandomForestClassifier\n",
    "from xgboost import XGBClassifier\n",
    "from xgboost import plot_importance\n",
    "import seaborn as sns\n",
    "from matplotlib import pyplot\n",
    "from collections import Counter\n",
    "from imblearn.over_sampling import RandomOverSampler"
   ]
  },
  {
   "cell_type": "code",
   "execution_count": 47,
   "id": "8c13d9b9",
   "metadata": {},
   "outputs": [
    {
     "data": {
      "text/html": [
       "<div>\n",
       "<style scoped>\n",
       "    .dataframe tbody tr th:only-of-type {\n",
       "        vertical-align: middle;\n",
       "    }\n",
       "\n",
       "    .dataframe tbody tr th {\n",
       "        vertical-align: top;\n",
       "    }\n",
       "\n",
       "    .dataframe thead th {\n",
       "        text-align: right;\n",
       "    }\n",
       "</style>\n",
       "<table border=\"1\" class=\"dataframe\">\n",
       "  <thead>\n",
       "    <tr style=\"text-align: right;\">\n",
       "      <th></th>\n",
       "      <th>social</th>\n",
       "      <th>motherIQ</th>\n",
       "      <th>alcohol</th>\n",
       "      <th>smoke</th>\n",
       "      <th>birthorder</th>\n",
       "      <th>birthwt</th>\n",
       "      <th>childage</th>\n",
       "      <th>score</th>\n",
       "      <th>disease</th>\n",
       "    </tr>\n",
       "  </thead>\n",
       "  <tbody>\n",
       "    <tr>\n",
       "      <th>0</th>\n",
       "      <td>2</td>\n",
       "      <td>1</td>\n",
       "      <td>1</td>\n",
       "      <td>1</td>\n",
       "      <td>1</td>\n",
       "      <td>3.78</td>\n",
       "      <td>5.00</td>\n",
       "      <td>110</td>\n",
       "      <td>0</td>\n",
       "    </tr>\n",
       "    <tr>\n",
       "      <th>1</th>\n",
       "      <td>2</td>\n",
       "      <td>1</td>\n",
       "      <td>1</td>\n",
       "      <td>1</td>\n",
       "      <td>2</td>\n",
       "      <td>3.03</td>\n",
       "      <td>5.17</td>\n",
       "      <td>91</td>\n",
       "      <td>0</td>\n",
       "    </tr>\n",
       "    <tr>\n",
       "      <th>2</th>\n",
       "      <td>1</td>\n",
       "      <td>1</td>\n",
       "      <td>3</td>\n",
       "      <td>2</td>\n",
       "      <td>2</td>\n",
       "      <td>2.71</td>\n",
       "      <td>5.08</td>\n",
       "      <td>91</td>\n",
       "      <td>0</td>\n",
       "    </tr>\n",
       "    <tr>\n",
       "      <th>3</th>\n",
       "      <td>2</td>\n",
       "      <td>2</td>\n",
       "      <td>1</td>\n",
       "      <td>1</td>\n",
       "      <td>1</td>\n",
       "      <td>2.92</td>\n",
       "      <td>4.92</td>\n",
       "      <td>96</td>\n",
       "      <td>0</td>\n",
       "    </tr>\n",
       "    <tr>\n",
       "      <th>4</th>\n",
       "      <td>1</td>\n",
       "      <td>1</td>\n",
       "      <td>2</td>\n",
       "      <td>2</td>\n",
       "      <td>2</td>\n",
       "      <td>3.62</td>\n",
       "      <td>4.92</td>\n",
       "      <td>93</td>\n",
       "      <td>1</td>\n",
       "    </tr>\n",
       "    <tr>\n",
       "      <th>...</th>\n",
       "      <td>...</td>\n",
       "      <td>...</td>\n",
       "      <td>...</td>\n",
       "      <td>...</td>\n",
       "      <td>...</td>\n",
       "      <td>...</td>\n",
       "      <td>...</td>\n",
       "      <td>...</td>\n",
       "      <td>...</td>\n",
       "    </tr>\n",
       "    <tr>\n",
       "      <th>1842</th>\n",
       "      <td>3</td>\n",
       "      <td>2</td>\n",
       "      <td>2</td>\n",
       "      <td>2</td>\n",
       "      <td>2</td>\n",
       "      <td>3.07</td>\n",
       "      <td>5.00</td>\n",
       "      <td>96</td>\n",
       "      <td>0</td>\n",
       "    </tr>\n",
       "    <tr>\n",
       "      <th>1843</th>\n",
       "      <td>1</td>\n",
       "      <td>2</td>\n",
       "      <td>2</td>\n",
       "      <td>1</td>\n",
       "      <td>2</td>\n",
       "      <td>3.87</td>\n",
       "      <td>4.92</td>\n",
       "      <td>90</td>\n",
       "      <td>0</td>\n",
       "    </tr>\n",
       "    <tr>\n",
       "      <th>1844</th>\n",
       "      <td>2</td>\n",
       "      <td>2</td>\n",
       "      <td>1</td>\n",
       "      <td>1</td>\n",
       "      <td>3</td>\n",
       "      <td>3.99</td>\n",
       "      <td>5.00</td>\n",
       "      <td>96</td>\n",
       "      <td>0</td>\n",
       "    </tr>\n",
       "    <tr>\n",
       "      <th>1845</th>\n",
       "      <td>3</td>\n",
       "      <td>2</td>\n",
       "      <td>1</td>\n",
       "      <td>1</td>\n",
       "      <td>1</td>\n",
       "      <td>4.27</td>\n",
       "      <td>5.00</td>\n",
       "      <td>90</td>\n",
       "      <td>0</td>\n",
       "    </tr>\n",
       "    <tr>\n",
       "      <th>1846</th>\n",
       "      <td>2</td>\n",
       "      <td>3</td>\n",
       "      <td>1</td>\n",
       "      <td>1</td>\n",
       "      <td>1</td>\n",
       "      <td>3.45</td>\n",
       "      <td>5.00</td>\n",
       "      <td>132</td>\n",
       "      <td>0</td>\n",
       "    </tr>\n",
       "  </tbody>\n",
       "</table>\n",
       "<p>1847 rows × 9 columns</p>\n",
       "</div>"
      ],
      "text/plain": [
       "      social  motherIQ  alcohol  smoke  birthorder  birthwt  childage  score  \\\n",
       "0          2         1        1      1           1     3.78      5.00    110   \n",
       "1          2         1        1      1           2     3.03      5.17     91   \n",
       "2          1         1        3      2           2     2.71      5.08     91   \n",
       "3          2         2        1      1           1     2.92      4.92     96   \n",
       "4          1         1        2      2           2     3.62      4.92     93   \n",
       "...      ...       ...      ...    ...         ...      ...       ...    ...   \n",
       "1842       3         2        2      2           2     3.07      5.00     96   \n",
       "1843       1         2        2      1           2     3.87      4.92     90   \n",
       "1844       2         2        1      1           3     3.99      5.00     96   \n",
       "1845       3         2        1      1           1     4.27      5.00     90   \n",
       "1846       2         3        1      1           1     3.45      5.00    132   \n",
       "\n",
       "      disease  \n",
       "0           0  \n",
       "1           0  \n",
       "2           0  \n",
       "3           0  \n",
       "4           1  \n",
       "...       ...  \n",
       "1842        0  \n",
       "1843        0  \n",
       "1844        0  \n",
       "1845        0  \n",
       "1846        0  \n",
       "\n",
       "[1847 rows x 9 columns]"
      ]
     },
     "execution_count": 47,
     "metadata": {},
     "output_type": "execute_result"
    }
   ],
   "source": [
    "df = pd.read_csv(\"../Documents/PHS/Statistics for HDS/module assessment/part2/child_cleaned.csv\")\n",
    "df = df.drop(\"Unnamed: 0\",axis=1)\n",
    "df"
   ]
  },
  {
   "cell_type": "code",
   "execution_count": 63,
   "id": "cd441565",
   "metadata": {},
   "outputs": [
    {
     "data": {
      "text/plain": [
       "3272"
      ]
     },
     "execution_count": 63,
     "metadata": {},
     "output_type": "execute_result"
    }
   ],
   "source": [
    "def get_dataset(return_X=True, over_sampling = True):\n",
    "    X = df.to_numpy()[:,:-2]\n",
    "    y = df[\"disease\"]\n",
    "    \n",
    "    if over_sampling:\n",
    "        ros = RandomOverSampler(random_state=0)\n",
    "        X_resampled, y_resampled = ros.fit_resample(X, y)\n",
    "        return X_resampled, np.array(y_resampled, dtype=int)\n",
    "    \n",
    "    return X, np.array(y, dtype=int)\n",
    "len(get_dataset()[1])"
   ]
  },
  {
   "cell_type": "code",
   "execution_count": 51,
   "id": "eba39609",
   "metadata": {},
   "outputs": [],
   "source": [
    "def data_split():\n",
    "    X, y = get_dataset()\n",
    "    split_indices = []\n",
    "    skf = StratifiedKFold(n_splits=5, shuffle=True, random_state=42)\n",
    "\n",
    "    for train_index, test_index in skf.split(X, y):\n",
    "        split_indices.append((train_index, test_index))\n",
    "\n",
    "    return split_indices"
   ]
  },
  {
   "cell_type": "code",
   "execution_count": 56,
   "id": "ddddcbe0",
   "metadata": {},
   "outputs": [],
   "source": [
    "def train_and_test(model_name, svm_kernel='rbf'):\n",
    "    X, y = get_dataset()\n",
    "    split_indices = data_split()\n",
    "    y_pre, y_tru = np.array([]), np.array([])\n",
    "\n",
    "    for train_indices, test_indices in split_indices:\n",
    "        X_train, X_test = X[train_indices], X[test_indices]\n",
    "        y_train, y_test = y[train_indices], y[test_indices]\n",
    "\n",
    "        if model_name=='LR':\n",
    "            model = LogisticRegression(solver='lbfgs', max_iter=10000)\n",
    "        elif model_name=='KNN':\n",
    "            model = KNeighborsClassifier()\n",
    "        elif model_name=='SVM':\n",
    "            model = SVC(kernel=svm_kernel)\n",
    "        elif model_name=='XGBoost':\n",
    "            model = XGBClassifier(use_label_encoder=False, eval_metric='mlogloss')\n",
    "        else:\n",
    "            print('No matched classifiers')\n",
    "            return\n",
    "        \n",
    "        model.fit(X_train, y_train)\n",
    "\n",
    "        y_test_pre = model.predict(X_test)\n",
    "        y_pre = np.concatenate((y_pre, y_test_pre))\n",
    "        y_tru = np.concatenate((y_tru, y_test))\n",
    "\n",
    "    return {'pre': y_pre, 'tru': y_tru}\n"
   ]
  },
  {
   "cell_type": "code",
   "execution_count": 38,
   "id": "74f0e38b",
   "metadata": {},
   "outputs": [],
   "source": [
    "def plot_heatmap(res, model_name):\n",
    "    print('Model:', model_name)\n",
    "    classes = [0,1]\n",
    "    y_pred, y_test = res['pre'].astype(int), res['tru'].astype(int)\n",
    "    \n",
    "    vis = confusion_matrix(y_test, y_pred)\n",
    "    accu = accuracy_score(y_test, y_pred)\n",
    "    \n",
    "    #print(classification_report(y_test, y_pred))\n",
    "    print('Accuracy: %.2f%%' % (accu*100))\n",
    "    \n",
    "    pd_vis = pd.DataFrame(vis, columns=classes, index=classes)\n",
    "    ax = sns.heatmap(pd_vis, cmap=\"Blues\", annot=True, fmt='d')"
   ]
  },
  {
   "cell_type": "code",
   "execution_count": 64,
   "id": "e5802b0e",
   "metadata": {},
   "outputs": [
    {
     "name": "stdout",
     "output_type": "stream",
     "text": [
      "Model: Multinominal Logistic Regression\n",
      "Accuracy: 58.37%\n"
     ]
    },
    {
     "data": {
      "image/png": "[encoded data removed]",
      "text/plain": [
       "<Figure size 640x480 with 2 Axes>"
      ]
     },
     "metadata": {},
     "output_type": "display_data"
    }
   ],
   "source": [
    "res_lr = train_and_test('LR')\n",
    "plot_heatmap(res_lr, 'Multinominal Logistic Regression')"
   ]
  },
  {
   "cell_type": "code",
   "execution_count": 58,
   "id": "5efce59f",
   "metadata": {},
   "outputs": [
    {
     "name": "stdout",
     "output_type": "stream",
     "text": [
      "Model: XGBoost\n",
      "Accuracy: 90.31%\n"
     ]
    },
    {
     "data": {
      "image/png": "[encoded data removed]",
      "text/plain": [
       "<Figure size 640x480 with 2 Axes>"
      ]
     },
     "metadata": {},
     "output_type": "display_data"
    }
   ],
   "source": [
    "res_xgboost = train_and_test('XGBoost')\n",
    "plot_heatmap(res_xgboost, 'XGBoost')"
   ]
  },
  {
   "cell_type": "code",
   "execution_count": 59,
   "id": "ce6fa735",
   "metadata": {},
   "outputs": [
    {
     "name": "stdout",
     "output_type": "stream",
     "text": [
      "Model: KNN\n",
      "Accuracy: 81.02%\n"
     ]
    },
    {
     "data": {
      "image/png": "[encoded data removed]",
      "text/plain": [
       "<Figure size 640x480 with 2 Axes>"
      ]
     },
     "metadata": {},
     "output_type": "display_data"
    }
   ],
   "source": [
    "res_knn = train_and_test('KNN')\n",
    "plot_heatmap(res_knn, 'KNN')"
   ]
  },
  {
   "cell_type": "code",
   "execution_count": 60,
   "id": "3a41c5b5",
   "metadata": {},
   "outputs": [
    {
     "name": "stdout",
     "output_type": "stream",
     "text": [
      "Model: SVM, kernel: rbf\n",
      "Accuracy: 59.50%\n"
     ]
    },
    {
     "data": {
      "image/png": "[encoded data removed]",
      "text/plain": [
       "<Figure size 640x480 with 2 Axes>"
      ]
     },
     "metadata": {},
     "output_type": "display_data"
    }
   ],
   "source": [
    "res_svm_rbf = train_and_test('SVM', 'rbf')\n",
    "plot_heatmap(res_svm_rbf, 'SVM, kernel: rbf')"
   ]
  }
 ],
 "metadata": {
  "kernelspec": {
   "display_name": "Python 3 (ipykernel)",
   "language": "python",
   "name": "python3"
  },
  "language_info": {
   "codemirror_mode": {
    "name": "ipython",
    "version": 3
   },
   "file_extension": ".py",
   "mimetype": "text/x-python",
   "name": "python",
   "nbconvert_exporter": "python",
   "pygments_lexer": "ipython3",
   "version": "3.9.12"
  }
 },
 "nbformat": 4,
 "nbformat_minor": 5
}
